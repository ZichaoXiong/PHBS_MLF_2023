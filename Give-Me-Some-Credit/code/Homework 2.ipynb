{
 "cells": [
  {
   "cell_type": "markdown",
   "metadata": {},
   "source": [
    "# Homework 2"
   ]
  },
  {
   "cell_type": "code",
   "execution_count": 1,
   "metadata": {},
   "outputs": [],
   "source": [
    "import pandas as pd\n",
    "import numpy as np\n",
    "import matplotlib.pyplot as plt\n",
    "\n",
    "from sklearn.preprocessing import StandardScaler\n",
    "from sklearn.decomposition import PCA\n",
    "\n",
    "from sklearn.pipeline import make_pipeline\n",
    "from sklearn.model_selection import GridSearchCV\n",
    "\n",
    "from sklearn.linear_model import LogisticRegression\n",
    "from sklearn.svm import SVC\n",
    "from sklearn.tree import DecisionTreeClassifier"
   ]
  },
  {
   "cell_type": "code",
   "execution_count": 2,
   "metadata": {},
   "outputs": [],
   "source": [
    "# import training set\n",
    "training_path = 'cs-training.csv'\n",
    "df_train = pd.read_csv(training_path)\n",
    "\n",
    "# Fill NaN with columns means\n",
    "df_train.fillna(value = df_train.mean(), inplace = True)\n",
    "\n",
    "# Extract dataframe as arrays\n",
    "# 'Unnamed: 0' is index and 'SeriousDlqin2yrs' is classification variable\n",
    "X_columns  = df_train.columns.difference(['Unnamed: 0', 'SeriousDlqin2yrs'])\n",
    "X_train = np.array(df_train[X_columns])\n",
    "y_train = np.array(df_train['SeriousDlqin2yrs'])\n",
    "\n",
    "# standardize X\n",
    "sc = StandardScaler()\n",
    "X_train_std = sc.fit_transform(X_train)\n",
    "\n",
    "length, width = X_train_std.shape"
   ]
  },
  {
   "cell_type": "code",
   "execution_count": 3,
   "metadata": {},
   "outputs": [],
   "source": [
    "# import test set\n",
    "X_test_path = 'cs-test.csv'\n",
    "X_df_test = pd.read_csv(X_test_path)\n",
    "X_df_test.fillna(value = X_df_test.mean(), inplace = True)\n",
    "X_test = np.array(X_df_test[X_columns])\n",
    "X_test_std = sc.transform(X_test)\n",
    "# import y_test from the probability set\n",
    "# for those probability >= 0.5, let y_predict be 1 and otherwise 0\n",
    "y_test_path = 'sampleEntry.csv'\n",
    "y_df_test = pd.read_csv(y_test_path)\n",
    "y_test_p = np.array(y_df_test['Probability'])\n",
    "benchmark = 0.5\n",
    "y_test_binary = y_test_p >= benchmark"
   ]
  },
  {
   "cell_type": "markdown",
   "metadata": {},
   "source": [
    "## PCA"
   ]
  },
  {
   "cell_type": "code",
   "execution_count": 4,
   "metadata": {},
   "outputs": [],
   "source": [
    "pca = PCA()\n",
    "X_train_pca = pca.fit_transform(X_train_std)\n",
    "explained_variance_ratio = pca.explained_variance_ratio_"
   ]
  },
  {
   "cell_type": "code",
   "execution_count": 5,
   "metadata": {},
   "outputs": [
    {
     "name": "stdout",
     "output_type": "stream",
     "text": [
      "The largest 1 components can explain 0.2995 of variance of the training set\n",
      "The largest 2 components can explain 0.4528 of variance of the training set\n",
      "The largest 3 components can explain 0.5754 of variance of the training set\n",
      "The largest 4 components can explain 0.6763 of variance of the training set\n",
      "The largest 5 components can explain 0.7764 of variance of the training set\n",
      "The largest 6 components can explain 0.8698 of variance of the training set\n",
      "The largest 7 components can explain 0.9433 of variance of the training set\n",
      "The largest 8 components can explain 0.9976 of variance of the training set\n",
      "The largest 9 components can explain 0.9993 of variance of the training set\n",
      "The largest 10 components can explain 1.0000 of variance of the training set\n"
     ]
    }
   ],
   "source": [
    "cumsum = np.cumsum(explained_variance_ratio)\n",
    "for i, s in enumerate(cumsum):\n",
    "    print('The largest {0} components can explain {1:.4f} of variance of the training set'.format(i+1, s))"
   ]
  },
  {
   "cell_type": "markdown",
   "metadata": {},
   "source": [
    "So we choose 6 components which can explain over 80% of the variance."
   ]
  },
  {
   "cell_type": "code",
   "execution_count": 6,
   "metadata": {},
   "outputs": [
    {
     "data": {
      "image/png": "[encoded data removed]",
      "text/plain": [
       "<Figure size 640x480 with 1 Axes>"
      ]
     },
     "metadata": {},
     "output_type": "display_data"
    }
   ],
   "source": [
    "plt.bar(range(1, width+1), pca.explained_variance_ratio_, alpha=0.5, align='center')\n",
    "plt.step(range(1, width+1), np.cumsum(pca.explained_variance_ratio_), where='mid')\n",
    "plt.hlines(y = 0.8, xmin=0, xmax=width+1, colors='gray', linestyles='--')\n",
    "plt.annotate(\"Benchmark of 80%\", (8, 0.75), color=\"gray\")\n",
    "plt.ylabel('Explained variance ratio')\n",
    "plt.xlabel('Principal components')\n",
    "\n",
    "plt.show()"
   ]
  },
  {
   "cell_type": "markdown",
   "metadata": {},
   "source": [
    "## LR with pipeline and grid search"
   ]
  },
  {
   "cell_type": "code",
   "execution_count": 7,
   "metadata": {},
   "outputs": [
    {
     "name": "stdout",
     "output_type": "stream",
     "text": [
      "The highest score is 0.9333 generated by parameters {'logisticregression__C': 0.0001, 'logisticregression__solver': 'lbfgs'}\n",
      "Test accuracy of logistic regression is: 0.9836\n"
     ]
    }
   ],
   "source": [
    "pipe_lr = make_pipeline(StandardScaler(),\n",
    "                        PCA(n_components=6),\n",
    "                        LogisticRegression(random_state=1))\n",
    "\n",
    "param_range = [10**c for c in range(-4, 4)]\n",
    "\n",
    "param_grid_lr = [{'logisticregression__C': param_range, \n",
    "                  'logisticregression__solver': ['lbfgs']},\n",
    "                 {'logisticregression__C': param_range, \n",
    "                  'logisticregression__solver': ['newton-cholesky']}]\n",
    "\n",
    "\n",
    "gs_lr = GridSearchCV(estimator=pipe_lr, \n",
    "                    param_grid=param_grid_lr, \n",
    "                    scoring='accuracy', \n",
    "                    refit=True,\n",
    "                    cv=5,\n",
    "                    n_jobs=-1)\n",
    "\n",
    "gs_lr.fit(X_train, y_train)\n",
    "\n",
    "print('The highest score is {:.4f} generated by parameters {}'.format(gs_lr.best_score_, gs_lr.best_params_))\n",
    "\n",
    "classifier_lr = gs_lr.best_estimator_\n",
    "\n",
    "print('Test accuracy of logistic regression is: %.4f' % classifier_lr.score(X_test, y_test_binary))"
   ]
  },
  {
   "cell_type": "markdown",
   "metadata": {},
   "source": [
    "## SVM with pipeline and grid search"
   ]
  },
  {
   "cell_type": "code",
   "execution_count": 7,
   "metadata": {},
   "outputs": [
    {
     "name": "stdout",
     "output_type": "stream",
     "text": [
      "The highest score is 0.9346 generated by parameters {'svc__C': 10, 'svc__kernel': 'rbf'}\n",
      "Test accuracy of SVM is: 0.9869\n"
     ]
    }
   ],
   "source": [
    "pipe_svc = make_pipeline(StandardScaler(),\n",
    "                        PCA(n_components=6),\n",
    "                        SVC(random_state=1))\n",
    "\n",
    "param_range = [10**c for c in range(-2, 2)]\n",
    "\n",
    "param_grid_svc = [{'svc__C': param_range, \n",
    "                   'svc__kernel': ['rbf']}]\n",
    "\n",
    "gs_svc = GridSearchCV(estimator=pipe_svc, \n",
    "                      param_grid=param_grid_svc, \n",
    "                      scoring='accuracy', \n",
    "                      refit=True,\n",
    "                      cv=5,\n",
    "                      n_jobs=-1)\n",
    "\n",
    "gs_svc.fit(X_train, y_train)\n",
    "\n",
    "print('The highest score is {:.4f} generated by parameters {}'.format(gs_svc.best_score_, gs_svc.best_params_))\n",
    "\n",
    "classifier_svc = gs_svc.best_estimator_\n",
    "\n",
    "print('Test accuracy of SVM is: %.4f' % classifier_svc.score(X_test, y_test_binary))"
   ]
  },
  {
   "cell_type": "markdown",
   "metadata": {},
   "source": [
    "## Decision Tree with pipeline and grid search"
   ]
  },
  {
   "cell_type": "code",
   "execution_count": 10,
   "metadata": {},
   "outputs": [
    {
     "name": "stdout",
     "output_type": "stream",
     "text": [
      "The highest score is 0.9362 generated by parameters {'decisiontreeclassifier__criterion': 'entropy', 'decisiontreeclassifier__max_depth': 4}\n",
      "Test accuracy of Decision Tree is: 0.9880\n"
     ]
    }
   ],
   "source": [
    "pipe_dt = make_pipeline(StandardScaler(),\n",
    "                        PCA(n_components=6),\n",
    "                        DecisionTreeClassifier(random_state=1))\n",
    "\n",
    "depth_range = list(range(2, 6))\n",
    "\n",
    "param_grid_dt = [{'decisiontreeclassifier__max_depth': depth_range,\n",
    "                  'decisiontreeclassifier__criterion': ['gini']},\n",
    "                 {'decisiontreeclassifier__max_depth': depth_range,\n",
    "                  'decisiontreeclassifier__criterion': ['entropy']},\n",
    "                 {'decisiontreeclassifier__max_depth': depth_range,\n",
    "                  'decisiontreeclassifier__criterion': ['log_loss']}]\n",
    "\n",
    "gs_dt = GridSearchCV(estimator=pipe_dt, \n",
    "                      param_grid=param_grid_dt, \n",
    "                      scoring='accuracy', \n",
    "                      refit=True,\n",
    "                      cv=5,\n",
    "                      n_jobs=-1)\n",
    "\n",
    "gs_dt.fit(X_train, y_train)\n",
    "\n",
    "print('The highest score is {:.4f} generated by parameters {}'.format(gs_dt.best_score_, gs_dt.best_params_))\n",
    "\n",
    "classifier_dt = gs_dt.best_estimator_\n",
    "\n",
    "print('Test accuracy of Decision Tree is: %.4f' % classifier_dt.score(X_test, y_test_binary))"
   ]
  },
  {
   "cell_type": "code",
   "execution_count": null,
   "metadata": {},
   "outputs": [],
   "source": []
  }
 ],
 "metadata": {
  "kernelspec": {
   "display_name": "mlfenv",
   "language": "python",
   "name": "python3"
  },
  "language_info": {
   "codemirror_mode": {
    "name": "ipython",
    "version": 3
   },
   "file_extension": ".py",
   "mimetype": "text/x-python",
   "name": "python",
   "nbconvert_exporter": "python",
   "pygments_lexer": "ipython3",
   "version": "3.10.13"
  },
  "orig_nbformat": 4
 },
 "nbformat": 4,
 "nbformat_minor": 2
}
